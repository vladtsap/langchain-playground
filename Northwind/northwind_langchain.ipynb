{
 "cells": [
  {
   "cell_type": "markdown",
   "source": [
    "# 1. Initialize the environment"
   ],
   "metadata": {
    "collapsed": false
   },
   "id": "406d8a4a14158ce2"
  },
  {
   "cell_type": "code",
   "execution_count": null,
   "id": "initial_id",
   "metadata": {
    "collapsed": true
   },
   "outputs": [],
   "source": [
    "!pip install --upgrade pip\n",
    "!pip install langchain openai"
   ]
  },
  {
   "cell_type": "code",
   "execution_count": 1,
   "outputs": [],
   "source": [
    "from langchain.agents import create_sql_agent\n",
    "from langchain.agents.agent_toolkits import SQLDatabaseToolkit\n",
    "from langchain.sql_database import SQLDatabase\n",
    "from langchain.llms.openai import OpenAI\n",
    "from langchain.agents.agent_types import AgentType"
   ],
   "metadata": {
    "collapsed": false,
    "ExecuteTime": {
     "end_time": "2023-07-31T14:29:52.231941Z",
     "start_time": "2023-07-31T14:29:51.163032Z"
    }
   },
   "id": "72b55fbeab1f8cbb"
  },
  {
   "cell_type": "markdown",
   "source": [
    "Downloading SQLite3 version of Microsoft's Northwind Database from [jpwhite3 repo](https://github.com/jpwhite3/northwind-SQLite3)"
   ],
   "metadata": {
    "collapsed": false
   },
   "id": "e79e3bfb470072c5"
  },
  {
   "cell_type": "code",
   "execution_count": null,
   "outputs": [],
   "source": [
    "!curl -OL https://raw.githubusercontent.com/jpwhite3/northwind-SQLite3/master/dist/northwind.db"
   ],
   "metadata": {
    "collapsed": false
   },
   "id": "cb671646b56add26"
  },
  {
   "cell_type": "code",
   "execution_count": 2,
   "outputs": [],
   "source": [
    "OPEN_AI_KEY = \"YourOpenAIAPIKey\""
   ],
   "metadata": {
    "collapsed": false,
    "ExecuteTime": {
     "end_time": "2023-07-31T14:29:53.106845Z",
     "start_time": "2023-07-31T14:29:53.099779Z"
    }
   },
   "id": "e12f16709f141a57"
  },
  {
   "cell_type": "code",
   "execution_count": 16,
   "outputs": [],
   "source": [
    "db = SQLDatabase.from_uri(\"sqlite:///northwind.db\")\n",
    "toolkit = SQLDatabaseToolkit(\n",
    "    db=db,\n",
    "    llm=OpenAI(\n",
    "        temperature=0,\n",
    "        openai_api_key=OPEN_AI_KEY,\n",
    "    ),\n",
    ")\n",
    "\n",
    "agent_executor = create_sql_agent(\n",
    "    llm=OpenAI(\n",
    "        temperature=0,\n",
    "        openai_api_key=OPEN_AI_KEY,\n",
    "    ),\n",
    "    toolkit=toolkit,\n",
    "    verbose=True,\n",
    "    agent_type=AgentType.ZERO_SHOT_REACT_DESCRIPTION,\n",
    "    openai_api_key=OPEN_AI_KEY,\n",
    ")"
   ],
   "metadata": {
    "collapsed": false,
    "ExecuteTime": {
     "end_time": "2023-07-31T14:48:37.512664Z",
     "start_time": "2023-07-31T14:48:37.488017Z"
    }
   },
   "id": "f31118ea4ed226cc"
  },
  {
   "cell_type": "markdown",
   "source": [
    "# 2. Agent usage"
   ],
   "metadata": {
    "collapsed": false
   },
   "id": "4b3a11a0279b0dd4"
  },
  {
   "cell_type": "markdown",
   "source": [
    "## 2.1. The country with the most expensive costs "
   ],
   "metadata": {
    "collapsed": false
   },
   "id": "e08616ef9be25bd4"
  },
  {
   "cell_type": "code",
   "execution_count": 17,
   "outputs": [
    {
     "name": "stdout",
     "output_type": "stream",
     "text": [
      "\n",
      "\n",
      "\u001B[1m> Entering new AgentExecutor chain...\u001B[0m\n",
      "\u001B[32;1m\u001B[1;3mAction: sql_db_list_tables\n",
      "Action Input: \u001B[0m\n",
      "Observation: \u001B[38;5;200m\u001B[1;3mCategories, CustomerCustomerDemo, CustomerDemographics, Customers, EmployeeTerritories, Employees, Order Details, Orders, Products, Regions, Shippers, Suppliers, Territories\u001B[0m\n",
      "Thought:\u001B[32;1m\u001B[1;3m I should query the schema of the Orders and Customers tables.\n",
      "Action: sql_db_schema\n",
      "Action Input: Orders, Customers\u001B[0m\n",
      "Observation: \u001B[33;1m\u001B[1;3m\n",
      "CREATE TABLE \"Customers\" (\n",
      "\t\"CustomerID\" TEXT, \n",
      "\t\"CompanyName\" TEXT, \n",
      "\t\"ContactName\" TEXT, \n",
      "\t\"ContactTitle\" TEXT, \n",
      "\t\"Address\" TEXT, \n",
      "\t\"City\" TEXT, \n",
      "\t\"Region\" TEXT, \n",
      "\t\"PostalCode\" TEXT, \n",
      "\t\"Country\" TEXT, \n",
      "\t\"Phone\" TEXT, \n",
      "\t\"Fax\" TEXT, \n",
      "\tPRIMARY KEY (\"CustomerID\")\n",
      ")\n",
      "\n",
      "/*\n",
      "3 rows from Customers table:\n",
      "CustomerID\tCompanyName\tContactName\tContactTitle\tAddress\tCity\tRegion\tPostalCode\tCountry\tPhone\tFax\n",
      "ALFKI\tAlfreds Futterkiste\tMaria Anders\tSales Representative\tObere Str. 57\tBerlin\tWestern Europe\t12209\tGermany\t030-0074321\t030-0076545\n",
      "ANATR\tAna Trujillo Emparedados y helados\tAna Trujillo\tOwner\tAvda. de la Constitución 2222\tMéxico D.F.\tCentral America\t05021\tMexico\t(5) 555-4729\t(5) 555-3745\n",
      "ANTON\tAntonio Moreno Taquería\tAntonio Moreno\tOwner\tMataderos  2312\tMéxico D.F.\tCentral America\t05023\tMexico\t(5) 555-3932\tNone\n",
      "*/\n",
      "\n",
      "\n",
      "CREATE TABLE \"Orders\" (\n",
      "\t\"OrderID\" INTEGER NOT NULL, \n",
      "\t\"CustomerID\" TEXT, \n",
      "\t\"EmployeeID\" INTEGER, \n",
      "\t\"OrderDate\" DATETIME, \n",
      "\t\"RequiredDate\" DATETIME, \n",
      "\t\"ShippedDate\" DATETIME, \n",
      "\t\"ShipVia\" INTEGER, \n",
      "\t\"Freight\" NUMERIC DEFAULT 0, \n",
      "\t\"ShipName\" TEXT, \n",
      "\t\"ShipAddress\" TEXT, \n",
      "\t\"ShipCity\" TEXT, \n",
      "\t\"ShipRegion\" TEXT, \n",
      "\t\"ShipPostalCode\" TEXT, \n",
      "\t\"ShipCountry\" TEXT, \n",
      "\tPRIMARY KEY (\"OrderID\"), \n",
      "\tFOREIGN KEY(\"ShipVia\") REFERENCES \"Shippers\" (\"ShipperID\"), \n",
      "\tFOREIGN KEY(\"CustomerID\") REFERENCES \"Customers\" (\"CustomerID\"), \n",
      "\tFOREIGN KEY(\"EmployeeID\") REFERENCES \"Employees\" (\"EmployeeID\")\n",
      ")\n",
      "\n",
      "/*\n",
      "3 rows from Orders table:\n",
      "OrderID\tCustomerID\tEmployeeID\tOrderDate\tRequiredDate\tShippedDate\tShipVia\tFreight\tShipName\tShipAddress\tShipCity\tShipRegion\tShipPostalCode\tShipCountry\n",
      "10248\tVINET\t5\t2016-07-04 00:00:00\t2016-08-01 00:00:00\t2016-07-16 00:00:00\t3\t32.3800000000\tVins et alcools Chevalier\t59 rue de l-Abbaye\tReims\tWestern Europe\t51100\tFrance\n",
      "10249\tTOMSP\t6\t2016-07-05 00:00:00\t2016-08-16 00:00:00\t2016-07-10 00:00:00\t1\t11.6100000000\tToms Spezialitäten\tLuisenstr. 48\tMünster\tWestern Europe\t44087\tGermany\n",
      "10250\tHANAR\t4\t2016-07-08 00:00:00\t2016-08-05 00:00:00\t2016-07-12 00:00:00\t2\t65.8300000000\tHanari Carnes\tRua do Paço, 67\tRio de Janeiro\tSouth America\t05454-876\tBrazil\n",
      "*/\u001B[0m\n",
      "Thought:\u001B[32;1m\u001B[1;3m I should query the total sales per country.\n",
      "Action: sql_db_query\n",
      "Action Input: SELECT Country, SUM(Freight) AS Total_Sales FROM Customers c JOIN Orders o ON c.CustomerID = o.CustomerID GROUP BY Country ORDER BY Total_Sales DESC LIMIT 10\u001B[0m\n",
      "Observation: \u001B[36;1m\u001B[1;3m[('USA', 13771.289999999999), ('Germany', 11283.28), ('Austria', 7391.500000000001), ('Brazil', 4880.1900000000005), ('France', 4237.840000000001), ('Sweden', 3237.600000000001), ('UK', 2954.270000000001), ('Ireland', 2755.2400000000002), ('Venezuela', 2735.18), ('Canada', 2198.09)]\u001B[0m\n",
      "Thought:\u001B[32;1m\u001B[1;3m I now know the final answer.\n",
      "Final Answer: The customers from USA spent the most, with a total of $13,771.29.\u001B[0m\n",
      "\n",
      "\u001B[1m> Finished chain.\u001B[0m\n"
     ]
    },
    {
     "data": {
      "text/plain": "'The customers from USA spent the most, with a total of $13,771.29.'"
     },
     "execution_count": 17,
     "metadata": {},
     "output_type": "execute_result"
    }
   ],
   "source": [
    "agent_executor.run(\n",
    "    \"List the total sales per country. Which country's customers spent the most?\"\n",
    ")"
   ],
   "metadata": {
    "collapsed": false,
    "ExecuteTime": {
     "end_time": "2023-07-31T12:55:34.394818Z",
     "start_time": "2023-07-31T12:55:27.673754Z"
    }
   },
   "id": "55e3934e95140b41"
  },
  {
   "cell_type": "markdown",
   "source": [
    "As we can see, LangChain list all tables, columns, and relations between them. The LangChain's comments are pretty clear to understand what each query does.\n",
    "\n",
    "\n",
    "## 2.2. Average price of the products"
   ],
   "metadata": {
    "collapsed": false
   },
   "id": "e4a81e80c1968202"
  },
  {
   "cell_type": "code",
   "execution_count": 19,
   "outputs": [
    {
     "name": "stdout",
     "output_type": "stream",
     "text": [
      "\n",
      "\n",
      "\u001B[1m> Entering new AgentExecutor chain...\u001B[0m\n",
      "\u001B[32;1m\u001B[1;3mAction: sql_db_list_tables\n",
      "Action Input: \u001B[0m\n",
      "Observation: \u001B[38;5;200m\u001B[1;3mCategories, CustomerCustomerDemo, CustomerDemographics, Customers, EmployeeTerritories, Employees, Order Details, Orders, Products, Regions, Shippers, Suppliers, Territories\u001B[0m\n",
      "Thought:\u001B[32;1m\u001B[1;3m I should query the schema of the Products table.\n",
      "Action: sql_db_schema\n",
      "Action Input: Products\u001B[0m\n",
      "Observation: \u001B[33;1m\u001B[1;3m\n",
      "CREATE TABLE \"Products\" (\n",
      "\t\"ProductID\" INTEGER NOT NULL, \n",
      "\t\"ProductName\" TEXT NOT NULL, \n",
      "\t\"SupplierID\" INTEGER, \n",
      "\t\"CategoryID\" INTEGER, \n",
      "\t\"QuantityPerUnit\" TEXT, \n",
      "\t\"UnitPrice\" NUMERIC DEFAULT 0, \n",
      "\t\"UnitsInStock\" INTEGER DEFAULT 0, \n",
      "\t\"UnitsOnOrder\" INTEGER DEFAULT 0, \n",
      "\t\"ReorderLevel\" INTEGER DEFAULT 0, \n",
      "\t\"Discontinued\" TEXT DEFAULT '0' NOT NULL, \n",
      "\tPRIMARY KEY (\"ProductID\"), \n",
      "\tFOREIGN KEY(\"SupplierID\") REFERENCES \"Suppliers\" (\"SupplierID\"), \n",
      "\tFOREIGN KEY(\"CategoryID\") REFERENCES \"Categories\" (\"CategoryID\"), \n",
      "\tCHECK ([UnitPrice]>=(0)), \n",
      "\tCHECK ([ReorderLevel]>=(0)), \n",
      "\tCHECK ([UnitsInStock]>=(0)), \n",
      "\tCHECK ([UnitsOnOrder]>=(0))\n",
      ")\n",
      "\n",
      "/*\n",
      "3 rows from Products table:\n",
      "ProductID\tProductName\tSupplierID\tCategoryID\tQuantityPerUnit\tUnitPrice\tUnitsInStock\tUnitsOnOrder\tReorderLevel\tDiscontinued\n",
      "1\tChai\t1\t1\t10 boxes x 20 bags\t18.0000000000\t39\t0\t10\t0\n",
      "2\tChang\t1\t1\t24 - 12 oz bottles\t19.0000000000\t17\t40\t25\t0\n",
      "3\tAniseed Syrup\t1\t2\t12 - 550 ml bottles\t10.0000000000\t13\t70\t25\t0\n",
      "*/\u001B[0m\n",
      "Thought:\u001B[32;1m\u001B[1;3m I should query the average price of products.\n",
      "Action: sql_db_query\n",
      "Action Input: SELECT AVG(UnitPrice) FROM Products\u001B[0m\n",
      "Observation: \u001B[36;1m\u001B[1;3m[(28.866363636363637,)]\u001B[0m\n",
      "Thought:\u001B[32;1m\u001B[1;3m I now know the final answer.\n",
      "Final Answer: The average price of products is 28.87.\u001B[0m\n",
      "\n",
      "\u001B[1m> Finished chain.\u001B[0m\n"
     ]
    },
    {
     "data": {
      "text/plain": "'The average price of products is 28.87.'"
     },
     "execution_count": 19,
     "metadata": {},
     "output_type": "execute_result"
    }
   ],
   "source": [
    "agent_executor.run(\n",
    "    \"What is the average price of products?\"\n",
    ")"
   ],
   "metadata": {
    "collapsed": false,
    "ExecuteTime": {
     "end_time": "2023-07-31T12:59:05.274387Z",
     "start_time": "2023-07-31T12:59:00.315754Z"
    }
   },
   "id": "ca850581542cf73a"
  },
  {
   "cell_type": "markdown",
   "source": [
    "LangChain understands the context, make the same research as at the previous step, and provide the correct answer.\n",
    "\n",
    "## 2.3. Total clients number"
   ],
   "metadata": {
    "collapsed": false
   },
   "id": "e1030f44707ecc00"
  },
  {
   "cell_type": "code",
   "execution_count": 20,
   "outputs": [
    {
     "name": "stdout",
     "output_type": "stream",
     "text": [
      "\n",
      "\n",
      "\u001B[1m> Entering new AgentExecutor chain...\u001B[0m\n",
      "\u001B[32;1m\u001B[1;3mAction: sql_db_list_tables\n",
      "Action Input: \u001B[0m\n",
      "Observation: \u001B[38;5;200m\u001B[1;3mCategories, CustomerCustomerDemo, CustomerDemographics, Customers, EmployeeTerritories, Employees, Order Details, Orders, Products, Regions, Shippers, Suppliers, Territories\u001B[0m\n",
      "Thought:\u001B[32;1m\u001B[1;3m The Customers table looks like it might have the information I need.\n",
      "Action: sql_db_schema\n",
      "Action Input: Customers\u001B[0m\n",
      "Observation: \u001B[33;1m\u001B[1;3m\n",
      "CREATE TABLE \"Customers\" (\n",
      "\t\"CustomerID\" TEXT, \n",
      "\t\"CompanyName\" TEXT, \n",
      "\t\"ContactName\" TEXT, \n",
      "\t\"ContactTitle\" TEXT, \n",
      "\t\"Address\" TEXT, \n",
      "\t\"City\" TEXT, \n",
      "\t\"Region\" TEXT, \n",
      "\t\"PostalCode\" TEXT, \n",
      "\t\"Country\" TEXT, \n",
      "\t\"Phone\" TEXT, \n",
      "\t\"Fax\" TEXT, \n",
      "\tPRIMARY KEY (\"CustomerID\")\n",
      ")\n",
      "\n",
      "/*\n",
      "3 rows from Customers table:\n",
      "CustomerID\tCompanyName\tContactName\tContactTitle\tAddress\tCity\tRegion\tPostalCode\tCountry\tPhone\tFax\n",
      "ALFKI\tAlfreds Futterkiste\tMaria Anders\tSales Representative\tObere Str. 57\tBerlin\tWestern Europe\t12209\tGermany\t030-0074321\t030-0076545\n",
      "ANATR\tAna Trujillo Emparedados y helados\tAna Trujillo\tOwner\tAvda. de la Constitución 2222\tMéxico D.F.\tCentral America\t05021\tMexico\t(5) 555-4729\t(5) 555-3745\n",
      "ANTON\tAntonio Moreno Taquería\tAntonio Moreno\tOwner\tMataderos  2312\tMéxico D.F.\tCentral America\t05023\tMexico\t(5) 555-3932\tNone\n",
      "*/\u001B[0m\n",
      "Thought:\u001B[32;1m\u001B[1;3m I should query the Customers table to get the number of customers.\n",
      "Action: sql_db_query\n",
      "Action Input: SELECT COUNT(*) FROM Customers\u001B[0m\n",
      "Observation: \u001B[36;1m\u001B[1;3m[(93,)]\u001B[0m\n",
      "Thought:\u001B[32;1m\u001B[1;3m I now know the final answer.\n",
      "Final Answer: There are 93 customers in the Northwind database.\u001B[0m\n",
      "\n",
      "\u001B[1m> Finished chain.\u001B[0m\n"
     ]
    },
    {
     "data": {
      "text/plain": "'There are 93 customers in the Northwind database.'"
     },
     "execution_count": 20,
     "metadata": {},
     "output_type": "execute_result"
    }
   ],
   "source": [
    "agent_executor.run(\n",
    "    \"How many customers are there in the Northwind database?\"\n",
    ")"
   ],
   "metadata": {
    "collapsed": false,
    "ExecuteTime": {
     "end_time": "2023-07-31T12:59:16.264993Z",
     "start_time": "2023-07-31T12:59:12.059311Z"
    }
   },
   "id": "4c21a66a1b5bcd63"
  },
  {
   "cell_type": "markdown",
   "source": [
    "## 2.4. The most expensive product"
   ],
   "metadata": {
    "collapsed": false
   },
   "id": "568f5a65128d77b5"
  },
  {
   "cell_type": "code",
   "execution_count": 21,
   "outputs": [
    {
     "name": "stdout",
     "output_type": "stream",
     "text": [
      "\n",
      "\n",
      "\u001B[1m> Entering new AgentExecutor chain...\u001B[0m\n",
      "\u001B[32;1m\u001B[1;3mAction: sql_db_list_tables\n",
      "Action Input: \u001B[0m\n",
      "Observation: \u001B[38;5;200m\u001B[1;3mCategories, CustomerCustomerDemo, CustomerDemographics, Customers, EmployeeTerritories, Employees, Order Details, Orders, Products, Regions, Shippers, Suppliers, Territories\u001B[0m\n",
      "Thought:\u001B[32;1m\u001B[1;3m I should query the schema of the Products table.\n",
      "Action: sql_db_schema\n",
      "Action Input: Products\u001B[0m\n",
      "Observation: \u001B[33;1m\u001B[1;3m\n",
      "CREATE TABLE \"Products\" (\n",
      "\t\"ProductID\" INTEGER NOT NULL, \n",
      "\t\"ProductName\" TEXT NOT NULL, \n",
      "\t\"SupplierID\" INTEGER, \n",
      "\t\"CategoryID\" INTEGER, \n",
      "\t\"QuantityPerUnit\" TEXT, \n",
      "\t\"UnitPrice\" NUMERIC DEFAULT 0, \n",
      "\t\"UnitsInStock\" INTEGER DEFAULT 0, \n",
      "\t\"UnitsOnOrder\" INTEGER DEFAULT 0, \n",
      "\t\"ReorderLevel\" INTEGER DEFAULT 0, \n",
      "\t\"Discontinued\" TEXT DEFAULT '0' NOT NULL, \n",
      "\tPRIMARY KEY (\"ProductID\"), \n",
      "\tFOREIGN KEY(\"SupplierID\") REFERENCES \"Suppliers\" (\"SupplierID\"), \n",
      "\tFOREIGN KEY(\"CategoryID\") REFERENCES \"Categories\" (\"CategoryID\"), \n",
      "\tCHECK ([UnitPrice]>=(0)), \n",
      "\tCHECK ([ReorderLevel]>=(0)), \n",
      "\tCHECK ([UnitsInStock]>=(0)), \n",
      "\tCHECK ([UnitsOnOrder]>=(0))\n",
      ")\n",
      "\n",
      "/*\n",
      "3 rows from Products table:\n",
      "ProductID\tProductName\tSupplierID\tCategoryID\tQuantityPerUnit\tUnitPrice\tUnitsInStock\tUnitsOnOrder\tReorderLevel\tDiscontinued\n",
      "1\tChai\t1\t1\t10 boxes x 20 bags\t18.0000000000\t39\t0\t10\t0\n",
      "2\tChang\t1\t1\t24 - 12 oz bottles\t19.0000000000\t17\t40\t25\t0\n",
      "3\tAniseed Syrup\t1\t2\t12 - 550 ml bottles\t10.0000000000\t13\t70\t25\t0\n",
      "*/\u001B[0m\n",
      "Thought:\u001B[32;1m\u001B[1;3m I should query the UnitPrice column of the Products table to find the most expensive product.\n",
      "Action: sql_db_query\n",
      "Action Input: SELECT ProductName, UnitPrice FROM Products ORDER BY UnitPrice DESC LIMIT 10\u001B[0m\n",
      "Observation: \u001B[36;1m\u001B[1;3m[('Côte de Blaye', 263.5), ('Thüringer Rostbratwurst', 123.79), ('Mishi Kobe Niku', 97), (\"Sir Rodney's Marmalade\", 81), ('Carnarvon Tigers', 62.5), ('Raclette Courdavault', 55), ('Manjimup Dried Apples', 53), ('Tarte au sucre', 49.3), ('Ipoh Coffee', 46), ('Rössle Sauerkraut', 45.6)]\u001B[0m\n",
      "Thought:\u001B[32;1m\u001B[1;3m I now know the final answer.\n",
      "Final Answer: The most expensive product in the Northwind database is Côte de Blaye, with a UnitPrice of 263.5.\u001B[0m\n",
      "\n",
      "\u001B[1m> Finished chain.\u001B[0m\n"
     ]
    },
    {
     "data": {
      "text/plain": "'The most expensive product in the Northwind database is Côte de Blaye, with a UnitPrice of 263.5.'"
     },
     "execution_count": 21,
     "metadata": {},
     "output_type": "execute_result"
    }
   ],
   "source": [
    "agent_executor.run(\n",
    "    \"What is the most expensive product in the Northwind database?\"\n",
    ")"
   ],
   "metadata": {
    "collapsed": false,
    "ExecuteTime": {
     "end_time": "2023-07-31T12:59:30.801184Z",
     "start_time": "2023-07-31T12:59:26.452039Z"
    }
   },
   "id": "18b415cd7078c7e7"
  },
  {
   "cell_type": "markdown",
   "source": [
    "Okay, that was quite easy, because it requires only one table and one query.\n",
    "Let's try to ask more complex questions.\n",
    "\n",
    "We have a `OrderDetails` table, where was information about each order (including discounts). This table has a relation with `Orders` table, where we can find information about customers. And `Customers` table has information about countries.\n",
    "\n",
    "Let's try to find the country with the biggest discount in total.\n",
    "\n",
    "## 2.5. Country with the biggest discount"
   ],
   "metadata": {
    "collapsed": false
   },
   "id": "d956a022a9f5c6d9"
  },
  {
   "cell_type": "code",
   "execution_count": 22,
   "outputs": [
    {
     "name": "stdout",
     "output_type": "stream",
     "text": [
      "\n",
      "\n",
      "\u001B[1m> Entering new AgentExecutor chain...\u001B[0m\n",
      "\u001B[32;1m\u001B[1;3mAction: sql_db_list_tables\n",
      "Action Input: \u001B[0m\n",
      "Observation: \u001B[38;5;200m\u001B[1;3mCategories, CustomerCustomerDemo, CustomerDemographics, Customers, EmployeeTerritories, Employees, Order Details, Orders, Products, Regions, Shippers, Suppliers, Territories\u001B[0m\n",
      "Thought:\u001B[32;1m\u001B[1;3m I should query the Orders table to get the discounts\n",
      "Action: sql_db_schema\n",
      "Action Input: Orders\u001B[0m\n",
      "Observation: \u001B[33;1m\u001B[1;3m\n",
      "CREATE TABLE \"Orders\" (\n",
      "\t\"OrderID\" INTEGER NOT NULL, \n",
      "\t\"CustomerID\" TEXT, \n",
      "\t\"EmployeeID\" INTEGER, \n",
      "\t\"OrderDate\" DATETIME, \n",
      "\t\"RequiredDate\" DATETIME, \n",
      "\t\"ShippedDate\" DATETIME, \n",
      "\t\"ShipVia\" INTEGER, \n",
      "\t\"Freight\" NUMERIC DEFAULT 0, \n",
      "\t\"ShipName\" TEXT, \n",
      "\t\"ShipAddress\" TEXT, \n",
      "\t\"ShipCity\" TEXT, \n",
      "\t\"ShipRegion\" TEXT, \n",
      "\t\"ShipPostalCode\" TEXT, \n",
      "\t\"ShipCountry\" TEXT, \n",
      "\tPRIMARY KEY (\"OrderID\"), \n",
      "\tFOREIGN KEY(\"ShipVia\") REFERENCES \"Shippers\" (\"ShipperID\"), \n",
      "\tFOREIGN KEY(\"CustomerID\") REFERENCES \"Customers\" (\"CustomerID\"), \n",
      "\tFOREIGN KEY(\"EmployeeID\") REFERENCES \"Employees\" (\"EmployeeID\")\n",
      ")\n",
      "\n",
      "/*\n",
      "3 rows from Orders table:\n",
      "OrderID\tCustomerID\tEmployeeID\tOrderDate\tRequiredDate\tShippedDate\tShipVia\tFreight\tShipName\tShipAddress\tShipCity\tShipRegion\tShipPostalCode\tShipCountry\n",
      "10248\tVINET\t5\t2016-07-04 00:00:00\t2016-08-01 00:00:00\t2016-07-16 00:00:00\t3\t32.3800000000\tVins et alcools Chevalier\t59 rue de l-Abbaye\tReims\tWestern Europe\t51100\tFrance\n",
      "10249\tTOMSP\t6\t2016-07-05 00:00:00\t2016-08-16 00:00:00\t2016-07-10 00:00:00\t1\t11.6100000000\tToms Spezialitäten\tLuisenstr. 48\tMünster\tWestern Europe\t44087\tGermany\n",
      "10250\tHANAR\t4\t2016-07-08 00:00:00\t2016-08-05 00:00:00\t2016-07-12 00:00:00\t2\t65.8300000000\tHanari Carnes\tRua do Paço, 67\tRio de Janeiro\tSouth America\t05454-876\tBrazil\n",
      "*/\u001B[0m\n",
      "Thought:\u001B[32;1m\u001B[1;3m I should query the ShipCountry column to get the discounts\n",
      "Action: sql_db_query\n",
      "Action Input: SELECT ShipCountry, COUNT(*) AS Discounts FROM Orders GROUP BY ShipCountry ORDER BY Discounts DESC LIMIT 10;\u001B[0m\n",
      "Observation: \u001B[36;1m\u001B[1;3m[('USA', 122), ('Germany', 122), ('Brazil', 83), ('France', 77), ('UK', 56), ('Venezuela', 46), ('Austria', 40), ('Sweden', 37), ('Canada', 30), ('Mexico', 28)]\u001B[0m\n",
      "Thought:\u001B[32;1m\u001B[1;3m I now know the final answer\n",
      "Final Answer: USA got the most discounts with 122.\u001B[0m\n",
      "\n",
      "\u001B[1m> Finished chain.\u001B[0m\n"
     ]
    },
    {
     "data": {
      "text/plain": "'USA got the most discounts with 122.'"
     },
     "execution_count": 22,
     "metadata": {},
     "output_type": "execute_result"
    }
   ],
   "source": [
    "agent_executor.run(\n",
    "    \"Which country got the most discounts?\"\n",
    ")"
   ],
   "metadata": {
    "collapsed": false,
    "ExecuteTime": {
     "end_time": "2023-07-31T14:20:35.546661Z",
     "start_time": "2023-07-31T14:20:29.762769Z"
    }
   },
   "id": "b5a610e18e927478"
  },
  {
   "cell_type": "markdown",
   "source": [
    "It use wrong table, and as a result we got wrong answer. Let's try to fix it. We will rephrase the question: most -> biggest"
   ],
   "metadata": {
    "collapsed": false
   },
   "id": "87757d8baf78b473"
  },
  {
   "cell_type": "code",
   "execution_count": 23,
   "outputs": [
    {
     "name": "stdout",
     "output_type": "stream",
     "text": [
      "\n",
      "\n",
      "\u001B[1m> Entering new AgentExecutor chain...\u001B[0m\n",
      "\u001B[32;1m\u001B[1;3mAction: sql_db_list_tables\n",
      "Action Input: \u001B[0m\n",
      "Observation: \u001B[38;5;200m\u001B[1;3mCategories, CustomerCustomerDemo, CustomerDemographics, Customers, EmployeeTerritories, Employees, Order Details, Orders, Products, Regions, Shippers, Suppliers, Territories\u001B[0m\n",
      "Thought:\u001B[32;1m\u001B[1;3m I should query the Orders table to get the discount information.\n",
      "Action: sql_db_schema\n",
      "Action Input: Orders\u001B[0m\n",
      "Observation: \u001B[33;1m\u001B[1;3m\n",
      "CREATE TABLE \"Orders\" (\n",
      "\t\"OrderID\" INTEGER NOT NULL, \n",
      "\t\"CustomerID\" TEXT, \n",
      "\t\"EmployeeID\" INTEGER, \n",
      "\t\"OrderDate\" DATETIME, \n",
      "\t\"RequiredDate\" DATETIME, \n",
      "\t\"ShippedDate\" DATETIME, \n",
      "\t\"ShipVia\" INTEGER, \n",
      "\t\"Freight\" NUMERIC DEFAULT 0, \n",
      "\t\"ShipName\" TEXT, \n",
      "\t\"ShipAddress\" TEXT, \n",
      "\t\"ShipCity\" TEXT, \n",
      "\t\"ShipRegion\" TEXT, \n",
      "\t\"ShipPostalCode\" TEXT, \n",
      "\t\"ShipCountry\" TEXT, \n",
      "\tPRIMARY KEY (\"OrderID\"), \n",
      "\tFOREIGN KEY(\"ShipVia\") REFERENCES \"Shippers\" (\"ShipperID\"), \n",
      "\tFOREIGN KEY(\"CustomerID\") REFERENCES \"Customers\" (\"CustomerID\"), \n",
      "\tFOREIGN KEY(\"EmployeeID\") REFERENCES \"Employees\" (\"EmployeeID\")\n",
      ")\n",
      "\n",
      "/*\n",
      "3 rows from Orders table:\n",
      "OrderID\tCustomerID\tEmployeeID\tOrderDate\tRequiredDate\tShippedDate\tShipVia\tFreight\tShipName\tShipAddress\tShipCity\tShipRegion\tShipPostalCode\tShipCountry\n",
      "10248\tVINET\t5\t2016-07-04 00:00:00\t2016-08-01 00:00:00\t2016-07-16 00:00:00\t3\t32.3800000000\tVins et alcools Chevalier\t59 rue de l-Abbaye\tReims\tWestern Europe\t51100\tFrance\n",
      "10249\tTOMSP\t6\t2016-07-05 00:00:00\t2016-08-16 00:00:00\t2016-07-10 00:00:00\t1\t11.6100000000\tToms Spezialitäten\tLuisenstr. 48\tMünster\tWestern Europe\t44087\tGermany\n",
      "10250\tHANAR\t4\t2016-07-08 00:00:00\t2016-08-05 00:00:00\t2016-07-12 00:00:00\t2\t65.8300000000\tHanari Carnes\tRua do Paço, 67\tRio de Janeiro\tSouth America\t05454-876\tBrazil\n",
      "*/\u001B[0m\n",
      "Thought:\u001B[32;1m\u001B[1;3m I should query the Orders table to get the country with the biggest discount.\n",
      "Action: sql_db_query\n",
      "Action Input: SELECT ShipCountry, MAX(Freight) FROM Orders GROUP BY ShipCountry ORDER BY MAX(Freight) DESC LIMIT 10\u001B[0m\n",
      "Observation: \u001B[36;1m\u001B[1;3m[('Germany', 1007.64), ('Brazil', 890.78), ('USA', 830.75), ('Austria', 789.95), ('Ireland', 603.54), ('France', 487.38), ('Belgium', 424.3), ('Canada', 379.13), ('Sweden', 328.74), ('Denmark', 299.09)]\u001B[0m\n",
      "Thought:\u001B[32;1m\u001B[1;3m I now know the final answer\n",
      "Final Answer: Germany got the biggest discount with 1007.64.\u001B[0m\n",
      "\n",
      "\u001B[1m> Finished chain.\u001B[0m\n"
     ]
    },
    {
     "data": {
      "text/plain": "'Germany got the biggest discount with 1007.64.'"
     },
     "execution_count": 23,
     "metadata": {},
     "output_type": "execute_result"
    }
   ],
   "source": [
    "agent_executor.run(\n",
    "    \"Which country got the biggest discount?\"\n",
    ")"
   ],
   "metadata": {
    "collapsed": false,
    "ExecuteTime": {
     "end_time": "2023-07-31T14:26:55.619326Z",
     "start_time": "2023-07-31T14:26:50.195853Z"
    }
   },
   "id": "4d20c5a390b0f77b"
  },
  {
   "cell_type": "markdown",
   "source": [
    "Still wrong :(\n",
    "\n",
    "Let's try to add more context about tables."
   ],
   "metadata": {
    "collapsed": false
   },
   "id": "f00a8f562a6ea9b7"
  },
  {
   "cell_type": "code",
   "execution_count": 8,
   "outputs": [
    {
     "name": "stdout",
     "output_type": "stream",
     "text": [
      "\n",
      "\n",
      "\u001B[1m> Entering new AgentExecutor chain...\u001B[0m\n",
      "\u001B[32;1m\u001B[1;3mAction: sql_db_list_tables\n",
      "Action Input: \u001B[0m\n",
      "Observation: \u001B[38;5;200m\u001B[1;3mCategories, CustomerCustomerDemo, CustomerDemographics, Customers, EmployeeTerritories, Employees, Order Details, Orders, Products, Regions, Shippers, Suppliers, Territories\u001B[0m\n",
      "Thought:\u001B[32;1m\u001B[1;3m I should query the schema of the Order Details and Customers tables.\n",
      "Action: sql_db_schema\n",
      "Action Input: 'Order Details, Customers'\u001B[0m\n",
      "Observation: \u001B[33;1m\u001B[1;3mError: table_names {\"Customers'\", \"'Order Details\"} not found in database\u001B[0m\n",
      "Thought:\u001B[32;1m\u001B[1;3m I should check the table names I'm using.\n",
      "Action: sql_db_list_tables\n",
      "Action Input: \u001B[0m\n",
      "Observation: \u001B[38;5;200m\u001B[1;3mCategories, CustomerCustomerDemo, CustomerDemographics, Customers, EmployeeTerritories, Employees, Order Details, Orders, Products, Regions, Shippers, Suppliers, Territories\u001B[0m\n",
      "Thought:\u001B[32;1m\u001B[1;3m I should query the schema of the Order_Details and Customers tables.\n",
      "Action: sql_db_schema\n",
      "Action Input: 'Order_Details, Customers'\u001B[0m\n",
      "Observation: \u001B[33;1m\u001B[1;3mError: table_names {\"Customers'\", \"'Order_Details\"} not found in database\u001B[0m\n",
      "Thought:\u001B[32;1m\u001B[1;3m I should use the correct table names with underscores.\n",
      "Action: sql_db_schema\n",
      "Action Input: 'Order_Details, Customers'\u001B[0m\n",
      "Observation: \u001B[33;1m\u001B[1;3mError: table_names {\"Customers'\", \"'Order_Details\"} not found in database\u001B[0m\n",
      "Thought:\u001B[32;1m\u001B[1;3m I should use the correct table names with underscores.\n",
      "Action: sql_db_schema\n",
      "Action Input: 'Order_Details, Customers'\u001B[0m\n",
      "Observation: \u001B[33;1m\u001B[1;3mError: table_names {\"Customers'\", \"'Order_Details\"} not found in database\u001B[0m\n",
      "Thought:\u001B[32;1m\u001B[1;3m I should use the correct table names with underscores.\n",
      "Action: sql_db_schema\n",
      "Action Input: 'Order_Details, Customers'\u001B[0m\n",
      "Observation: \u001B[33;1m\u001B[1;3mError: table_names {\"Customers'\", \"'Order_Details\"} not found in database\u001B[0m\n",
      "Thought:\u001B[32;1m\u001B[1;3m I should use the correct table names with underscores.\n",
      "Action: sql_db_schema\n",
      "Action Input: 'Order_Details, Customers'\u001B[0m\n",
      "Observation: \u001B[33;1m\u001B[1;3mError: table_names {\"Customers'\", \"'Order_Details\"} not found in database\u001B[0m\n",
      "Thought:\u001B[32;1m\u001B[1;3m I should use the correct table names with underscores.\n",
      "Action: sql_db_schema\n",
      "Action Input: 'Order_Details, Customers'\u001B[0m\n",
      "Observation: \u001B[33;1m\u001B[1;3mError: table_names {\"Customers'\", \"'Order_Details\"} not found in database\u001B[0m\n",
      "Thought:\u001B[32;1m\u001B[1;3m I should use the correct table names with underscores.\n",
      "Action: sql_db_schema\n",
      "Action Input: 'Order_Details, Customers'\u001B[0m\n",
      "Observation: \u001B[33;1m\u001B[1;3mError: table_names {\"Customers'\", \"'Order_Details\"} not found in database\u001B[0m\n",
      "Thought:\u001B[32;1m\u001B[1;3m I should use the correct table names with underscores.\n",
      "Action: sql_db_schema\n",
      "Action Input: 'Order_Details, Customers'\u001B[0m\n",
      "Observation: \u001B[33;1m\u001B[1;3mError: table_names {\"Customers'\", \"'Order_Details\"} not found in database\u001B[0m\n",
      "Thought:\u001B[32;1m\u001B[1;3m I should use the correct table names with underscores.\n",
      "Action: sql_db_schema\n",
      "Action Input: 'Order_Details, Customers'\u001B[0m\n",
      "Observation: \u001B[33;1m\u001B[1;3mError: table_names {\"Customers'\", \"'Order_Details\"} not found in database\u001B[0m\n",
      "Thought:\u001B[32;1m\u001B[1;3m I should use the correct table names with underscores.\n",
      "Action: sql_db_schema\n",
      "Action Input: 'Order_Details, Customers'\u001B[0m\n",
      "Observation: \u001B[33;1m\u001B[1;3mError: table_names {\"Customers'\", \"'Order_Details\"} not found in database\u001B[0m\n",
      "Thought:\u001B[32;1m\u001B[1;3m I should use the correct table names with underscores.\n",
      "Action: sql_db_schema\n",
      "Action Input: 'Order_Details, Customers'\u001B[0m\n",
      "Observation: \u001B[33;1m\u001B[1;3mError: table_names {\"Customers'\", \"'Order_Details\"} not found in database\u001B[0m\n",
      "Thought:\u001B[32;1m\u001B[1;3m I should use the correct table names with underscores.\n",
      "Action: sql_db_schema\n",
      "Action Input: 'Order_Details, Customers'\u001B[0m\n",
      "Observation: \u001B[33;1m\u001B[1;3mError: table_names {\"Customers'\", \"'Order_Details\"} not found in database\u001B[0m\n",
      "Thought:\u001B[32;1m\u001B[1;3m\u001B[0m\n",
      "\n",
      "\u001B[1m> Finished chain.\u001B[0m\n"
     ]
    },
    {
     "data": {
      "text/plain": "'Agent stopped due to iteration limit or time limit.'"
     },
     "execution_count": 8,
     "metadata": {},
     "output_type": "execute_result"
    }
   ],
   "source": [
    "agent_executor.run(\n",
    "    \"Which country got the biggest discount?\"\n",
    "    \"Discount information is in the Order Details table.\"\n",
    "    \"Do not forgive to use quotemarks for table names.\"\n",
    "    \"Information about countries is in the Customers table.\"\n",
    ")"
   ],
   "metadata": {
    "collapsed": false,
    "ExecuteTime": {
     "end_time": "2023-07-31T14:36:47.915440Z",
     "start_time": "2023-07-31T14:36:30.326573Z"
    }
   },
   "id": "d6816d0e21c66f9c"
  },
  {
   "cell_type": "markdown",
   "source": [
    "Haha, it falls into the forever loop, because it doesn't know how to handle table name with spaces.\n",
    "\n",
    "Let's rename `Order Details` table to `OrderDetails` and try again."
   ],
   "metadata": {
    "collapsed": false
   },
   "id": "7e16736424e4a1ee"
  },
  {
   "cell_type": "code",
   "execution_count": null,
   "outputs": [],
   "source": [
    "db.run(\"DROP VIEW IF EXISTS 'ProductDetails_V';\")\n",
    "\n",
    "db.run(\"ALTER TABLE 'Order Details' RENAME TO OrderDetails;\")"
   ],
   "metadata": {
    "collapsed": false
   },
   "id": "c36f6d8b21291cda"
  },
  {
   "cell_type": "code",
   "execution_count": 17,
   "outputs": [
    {
     "name": "stdout",
     "output_type": "stream",
     "text": [
      "\n",
      "\n",
      "\u001B[1m> Entering new AgentExecutor chain...\u001B[0m\n",
      "\u001B[32;1m\u001B[1;3mAction: sql_db_list_tables\n",
      "Action Input: \u001B[0m\n",
      "Observation: \u001B[38;5;200m\u001B[1;3mCategories, CustomerCustomerDemo, CustomerDemographics, Customers, EmployeeTerritories, Employees, OrderDetails, Orders, Products, Regions, Shippers, Suppliers, Territories\u001B[0m\n",
      "Thought:\u001B[32;1m\u001B[1;3m I should query the schema of the OrderDetails and Customers tables.\n",
      "Action: sql_db_schema\n",
      "Action Input: OrderDetails, Customers\u001B[0m\n",
      "Observation: \u001B[33;1m\u001B[1;3m\n",
      "CREATE TABLE \"Customers\" (\n",
      "\t\"CustomerID\" TEXT, \n",
      "\t\"CompanyName\" TEXT, \n",
      "\t\"ContactName\" TEXT, \n",
      "\t\"ContactTitle\" TEXT, \n",
      "\t\"Address\" TEXT, \n",
      "\t\"City\" TEXT, \n",
      "\t\"Region\" TEXT, \n",
      "\t\"PostalCode\" TEXT, \n",
      "\t\"Country\" TEXT, \n",
      "\t\"Phone\" TEXT, \n",
      "\t\"Fax\" TEXT, \n",
      "\tPRIMARY KEY (\"CustomerID\")\n",
      ")\n",
      "\n",
      "/*\n",
      "3 rows from Customers table:\n",
      "CustomerID\tCompanyName\tContactName\tContactTitle\tAddress\tCity\tRegion\tPostalCode\tCountry\tPhone\tFax\n",
      "ALFKI\tAlfreds Futterkiste\tMaria Anders\tSales Representative\tObere Str. 57\tBerlin\tWestern Europe\t12209\tGermany\t030-0074321\t030-0076545\n",
      "ANATR\tAna Trujillo Emparedados y helados\tAna Trujillo\tOwner\tAvda. de la Constitución 2222\tMéxico D.F.\tCentral America\t05021\tMexico\t(5) 555-4729\t(5) 555-3745\n",
      "ANTON\tAntonio Moreno Taquería\tAntonio Moreno\tOwner\tMataderos  2312\tMéxico D.F.\tCentral America\t05023\tMexico\t(5) 555-3932\tNone\n",
      "*/\n",
      "\n",
      "\n",
      "CREATE TABLE \"OrderDetails\" (\n",
      "\t\"OrderID\" INTEGER NOT NULL, \n",
      "\t\"ProductID\" INTEGER NOT NULL, \n",
      "\t\"UnitPrice\" NUMERIC DEFAULT 0 NOT NULL, \n",
      "\t\"Quantity\" INTEGER DEFAULT 1 NOT NULL, \n",
      "\t\"Discount\" REAL DEFAULT 0 NOT NULL, \n",
      "\tPRIMARY KEY (\"OrderID\", \"ProductID\"), \n",
      "\tFOREIGN KEY(\"ProductID\") REFERENCES \"Products\" (\"ProductID\"), \n",
      "\tFOREIGN KEY(\"OrderID\") REFERENCES \"Orders\" (\"OrderID\"), \n",
      "\tCHECK ([Discount]>=(0) AND [Discount]<=(1)), \n",
      "\tCHECK ([Quantity]>(0)), \n",
      "\tCHECK ([UnitPrice]>=(0))\n",
      ")\n",
      "\n",
      "/*\n",
      "3 rows from OrderDetails table:\n",
      "OrderID\tProductID\tUnitPrice\tQuantity\tDiscount\n",
      "10248\t11\t14.0000000000\t12\t0.0\n",
      "10248\t42\t9.8000000000\t10\t0.0\n",
      "10248\t72\t34.8000000000\t5\t0.0\n",
      "*/\u001B[0m\n",
      "Thought:\u001B[32;1m\u001B[1;3m I should query the OrderDetails table to get the country with the biggest discount.\n",
      "Action: sql_db_query\n",
      "Action Input: SELECT Country, MAX(Discount) FROM Customers c JOIN OrderDetails o ON c.CustomerID = o.OrderID GROUP BY Country;\u001B[0m\n",
      "Observation: \u001B[36;1m\u001B[1;3m[]\u001B[0m\n",
      "Thought:\u001B[32;1m\u001B[1;3m I should check my query before executing it.\n",
      "Action: sql_db_query_checker\n",
      "Action Input: SELECT Country, MAX(Discount) FROM Customers c JOIN OrderDetails o ON c.CustomerID = o.OrderID GROUP BY Country;\u001B[0m\n",
      "Observation: \u001B[36;1m\u001B[1;3m\n",
      "\n",
      "SELECT Country, MAX(Discount) FROM Customers c JOIN OrderDetails o ON c.CustomerID = o.OrderID GROUP BY Country;\u001B[0m\n",
      "Thought:\u001B[32;1m\u001B[1;3m The query looks correct, I should execute it.\n",
      "Action: sql_db_query\n",
      "Action Input: SELECT Country, MAX(Discount) FROM Customers c JOIN OrderDetails o ON c.CustomerID = o.OrderID GROUP BY Country;\u001B[0m\n",
      "Observation: \u001B[36;1m\u001B[1;3m[]\u001B[0m\n",
      "Thought:\u001B[32;1m\u001B[1;3m I now know the final answer.\n",
      "Final Answer: I don't know\u001B[0m\n",
      "\n",
      "\u001B[1m> Finished chain.\u001B[0m\n"
     ]
    },
    {
     "data": {
      "text/plain": "\"I don't know\""
     },
     "execution_count": 17,
     "metadata": {},
     "output_type": "execute_result"
    }
   ],
   "source": [
    "agent_executor.run(\n",
    "    'Which country got the biggest discount?'\n",
    "    'Discount information is in the OrderDetails table.'\n",
    "    'Information about countries is in the Customers table.'\n",
    ")"
   ],
   "metadata": {
    "collapsed": false,
    "ExecuteTime": {
     "end_time": "2023-07-31T14:48:53.648888Z",
     "start_time": "2023-07-31T14:48:43.470320Z"
    }
   },
   "id": "3774f625321d459b"
  },
  {
   "cell_type": "markdown",
   "source": [
    "> I don't know\n",
    "\n",
    "Good to hear -_-\n",
    "\n",
    "We will add a hint to find all relations between tables, and try to find out that\n",
    " `OrderDetails.OrderID` is related to `Orders.OrderID`, and `Orders.CustomerID` is related to `Customers.CustomerID`, and `Customers.Country` is what we need."
   ],
   "metadata": {
    "collapsed": false
   },
   "id": "abe9e64f7dba1c92"
  },
  {
   "cell_type": "code",
   "execution_count": 18,
   "outputs": [
    {
     "name": "stdout",
     "output_type": "stream",
     "text": [
      "\n",
      "\n",
      "\u001B[1m> Entering new AgentExecutor chain...\u001B[0m\n",
      "\u001B[32;1m\u001B[1;3mAction: sql_db_list_tables\n",
      "Action Input: \u001B[0m\n",
      "Observation: \u001B[38;5;200m\u001B[1;3mCategories, CustomerCustomerDemo, CustomerDemographics, Customers, EmployeeTerritories, Employees, OrderDetails, Orders, Products, Regions, Shippers, Suppliers, Territories\u001B[0m\n",
      "Thought:\u001B[32;1m\u001B[1;3m I should query the schema of the OrderDetails and Customers tables.\n",
      "Action: sql_db_schema\n",
      "Action Input: OrderDetails, Customers\u001B[0m\n",
      "Observation: \u001B[33;1m\u001B[1;3m\n",
      "CREATE TABLE \"Customers\" (\n",
      "\t\"CustomerID\" TEXT, \n",
      "\t\"CompanyName\" TEXT, \n",
      "\t\"ContactName\" TEXT, \n",
      "\t\"ContactTitle\" TEXT, \n",
      "\t\"Address\" TEXT, \n",
      "\t\"City\" TEXT, \n",
      "\t\"Region\" TEXT, \n",
      "\t\"PostalCode\" TEXT, \n",
      "\t\"Country\" TEXT, \n",
      "\t\"Phone\" TEXT, \n",
      "\t\"Fax\" TEXT, \n",
      "\tPRIMARY KEY (\"CustomerID\")\n",
      ")\n",
      "\n",
      "/*\n",
      "3 rows from Customers table:\n",
      "CustomerID\tCompanyName\tContactName\tContactTitle\tAddress\tCity\tRegion\tPostalCode\tCountry\tPhone\tFax\n",
      "ALFKI\tAlfreds Futterkiste\tMaria Anders\tSales Representative\tObere Str. 57\tBerlin\tWestern Europe\t12209\tGermany\t030-0074321\t030-0076545\n",
      "ANATR\tAna Trujillo Emparedados y helados\tAna Trujillo\tOwner\tAvda. de la Constitución 2222\tMéxico D.F.\tCentral America\t05021\tMexico\t(5) 555-4729\t(5) 555-3745\n",
      "ANTON\tAntonio Moreno Taquería\tAntonio Moreno\tOwner\tMataderos  2312\tMéxico D.F.\tCentral America\t05023\tMexico\t(5) 555-3932\tNone\n",
      "*/\n",
      "\n",
      "\n",
      "CREATE TABLE \"OrderDetails\" (\n",
      "\t\"OrderID\" INTEGER NOT NULL, \n",
      "\t\"ProductID\" INTEGER NOT NULL, \n",
      "\t\"UnitPrice\" NUMERIC DEFAULT 0 NOT NULL, \n",
      "\t\"Quantity\" INTEGER DEFAULT 1 NOT NULL, \n",
      "\t\"Discount\" REAL DEFAULT 0 NOT NULL, \n",
      "\tPRIMARY KEY (\"OrderID\", \"ProductID\"), \n",
      "\tFOREIGN KEY(\"ProductID\") REFERENCES \"Products\" (\"ProductID\"), \n",
      "\tFOREIGN KEY(\"OrderID\") REFERENCES \"Orders\" (\"OrderID\"), \n",
      "\tCHECK ([Discount]>=(0) AND [Discount]<=(1)), \n",
      "\tCHECK ([Quantity]>(0)), \n",
      "\tCHECK ([UnitPrice]>=(0))\n",
      ")\n",
      "\n",
      "/*\n",
      "3 rows from OrderDetails table:\n",
      "OrderID\tProductID\tUnitPrice\tQuantity\tDiscount\n",
      "10248\t11\t14.0000000000\t12\t0.0\n",
      "10248\t42\t9.8000000000\t10\t0.0\n",
      "10248\t72\t34.8000000000\t5\t0.0\n",
      "*/\u001B[0m\n",
      "Thought:\u001B[32;1m\u001B[1;3m I should query the OrderDetails table to find the country with the biggest discount.\n",
      "Action: sql_db_query\n",
      "Action Input: SELECT Country, MAX(Discount) FROM Customers c JOIN OrderDetails o ON c.CustomerID = o.OrderID GROUP BY Country\u001B[0m\n",
      "Observation: \u001B[36;1m\u001B[1;3m[]\u001B[0m\n",
      "Thought:\u001B[32;1m\u001B[1;3m I should double check my query before executing it.\n",
      "Action: sql_db_query_checker\n",
      "Action Input: SELECT Country, MAX(Discount) FROM Customers c JOIN OrderDetails o ON c.CustomerID = o.OrderID GROUP BY Country\u001B[0m\n",
      "Observation: \u001B[36;1m\u001B[1;3m\n",
      "\n",
      "SELECT Country, MAX(Discount) FROM Customers c JOIN OrderDetails o ON c.CustomerID = o.OrderID GROUP BY Country\u001B[0m\n",
      "Thought:\u001B[32;1m\u001B[1;3m The query looks correct, I should execute it.\n",
      "Action: sql_db_query\n",
      "Action Input: SELECT Country, MAX(Discount) FROM Customers c JOIN OrderDetails o ON c.CustomerID = o.OrderID GROUP BY Country\u001B[0m\n",
      "Observation: \u001B[36;1m\u001B[1;3m[]\u001B[0m\n",
      "Thought:\u001B[32;1m\u001B[1;3m I now know the final answer.\n",
      "Final Answer: I don't know\u001B[0m\n",
      "\n",
      "\u001B[1m> Finished chain.\u001B[0m\n"
     ]
    },
    {
     "data": {
      "text/plain": "\"I don't know\""
     },
     "execution_count": 18,
     "metadata": {},
     "output_type": "execute_result"
    }
   ],
   "source": [
    "agent_executor.run(\n",
    "    'View all tables and their columns.'\n",
    "    'Find relations between them.'\n",
    "    'Which country got the biggest discount?'\n",
    "    'Discount information is in the OrderDetails table.'\n",
    "    'Information about countries is in the Customers table.'\n",
    ")"
   ],
   "metadata": {
    "collapsed": false,
    "ExecuteTime": {
     "end_time": "2023-07-31T16:10:18.296687Z",
     "start_time": "2023-07-31T16:10:06.726567Z"
    }
   },
   "id": "fb0da2aa6b84ddf"
  },
  {
   "cell_type": "markdown",
   "source": [
    "Maybe we give too much information, let's try to remove some of them.\n",
    "Hope LangChain is smart enough."
   ],
   "metadata": {
    "collapsed": false
   },
   "id": "9603669a777ba780"
  },
  {
   "cell_type": "code",
   "execution_count": 19,
   "outputs": [
    {
     "name": "stdout",
     "output_type": "stream",
     "text": [
      "\n",
      "\n",
      "\u001B[1m> Entering new AgentExecutor chain...\u001B[0m\n",
      "\u001B[32;1m\u001B[1;3mAction: sql_db_list_tables\n",
      "Action Input: \"\"\u001B[0m\n",
      "Observation: \u001B[38;5;200m\u001B[1;3mCategories, CustomerCustomerDemo, CustomerDemographics, Customers, EmployeeTerritories, Employees, OrderDetails, Orders, Products, Regions, Shippers, Suppliers, Territories\u001B[0m\n",
      "Thought:\u001B[32;1m\u001B[1;3m I should query the schema of the relevant tables\n",
      "Action: sql_db_schema\n",
      "Action Input: \"Orders, OrderDetails\"\u001B[0m\n",
      "Observation: \u001B[33;1m\u001B[1;3m\n",
      "CREATE TABLE \"OrderDetails\" (\n",
      "\t\"OrderID\" INTEGER NOT NULL, \n",
      "\t\"ProductID\" INTEGER NOT NULL, \n",
      "\t\"UnitPrice\" NUMERIC DEFAULT 0 NOT NULL, \n",
      "\t\"Quantity\" INTEGER DEFAULT 1 NOT NULL, \n",
      "\t\"Discount\" REAL DEFAULT 0 NOT NULL, \n",
      "\tPRIMARY KEY (\"OrderID\", \"ProductID\"), \n",
      "\tFOREIGN KEY(\"ProductID\") REFERENCES \"Products\" (\"ProductID\"), \n",
      "\tFOREIGN KEY(\"OrderID\") REFERENCES \"Orders\" (\"OrderID\"), \n",
      "\tCHECK ([Discount]>=(0) AND [Discount]<=(1)), \n",
      "\tCHECK ([Quantity]>(0)), \n",
      "\tCHECK ([UnitPrice]>=(0))\n",
      ")\n",
      "\n",
      "/*\n",
      "3 rows from OrderDetails table:\n",
      "OrderID\tProductID\tUnitPrice\tQuantity\tDiscount\n",
      "10248\t11\t14.0000000000\t12\t0.0\n",
      "10248\t42\t9.8000000000\t10\t0.0\n",
      "10248\t72\t34.8000000000\t5\t0.0\n",
      "*/\n",
      "\n",
      "\n",
      "CREATE TABLE \"Orders\" (\n",
      "\t\"OrderID\" INTEGER NOT NULL, \n",
      "\t\"CustomerID\" TEXT, \n",
      "\t\"EmployeeID\" INTEGER, \n",
      "\t\"OrderDate\" DATETIME, \n",
      "\t\"RequiredDate\" DATETIME, \n",
      "\t\"ShippedDate\" DATETIME, \n",
      "\t\"ShipVia\" INTEGER, \n",
      "\t\"Freight\" NUMERIC DEFAULT 0, \n",
      "\t\"ShipName\" TEXT, \n",
      "\t\"ShipAddress\" TEXT, \n",
      "\t\"ShipCity\" TEXT, \n",
      "\t\"ShipRegion\" TEXT, \n",
      "\t\"ShipPostalCode\" TEXT, \n",
      "\t\"ShipCountry\" TEXT, \n",
      "\tPRIMARY KEY (\"OrderID\"), \n",
      "\tFOREIGN KEY(\"ShipVia\") REFERENCES \"Shippers\" (\"ShipperID\"), \n",
      "\tFOREIGN KEY(\"CustomerID\") REFERENCES \"Customers\" (\"CustomerID\"), \n",
      "\tFOREIGN KEY(\"EmployeeID\") REFERENCES \"Employees\" (\"EmployeeID\")\n",
      ")\n",
      "\n",
      "/*\n",
      "3 rows from Orders table:\n",
      "OrderID\tCustomerID\tEmployeeID\tOrderDate\tRequiredDate\tShippedDate\tShipVia\tFreight\tShipName\tShipAddress\tShipCity\tShipRegion\tShipPostalCode\tShipCountry\n",
      "10248\tVINET\t5\t2016-07-04 00:00:00\t2016-08-01 00:00:00\t2016-07-16 00:00:00\t3\t32.3800000000\tVins et alcools Chevalier\t59 rue de l-Abbaye\tReims\tWestern Europe\t51100\tFrance\n",
      "10249\tTOMSP\t6\t2016-07-05 00:00:00\t2016-08-16 00:00:00\t2016-07-10 00:00:00\t1\t11.6100000000\tToms Spezialitäten\tLuisenstr. 48\tMünster\tWestern Europe\t44087\tGermany\n",
      "10250\tHANAR\t4\t2016-07-08 00:00:00\t2016-08-05 00:00:00\t2016-07-12 00:00:00\t2\t65.8300000000\tHanari Carnes\tRua do Paço, 67\tRio de Janeiro\tSouth America\t05454-876\tBrazil\n",
      "*/\u001B[0m\n",
      "Thought:\u001B[32;1m\u001B[1;3m I should query the OrderDetails table to find the country with the biggest discount\n",
      "Action: sql_db_query\n",
      "Action Input: SELECT ShipCountry, MAX(Discount) FROM OrderDetails\u001B[0m\n",
      "Observation: \u001B[36;1m\u001B[1;3mError: (sqlite3.OperationalError) no such column: ShipCountry\n",
      "[SQL: SELECT ShipCountry, MAX(Discount) FROM OrderDetails]\n",
      "(Background on this error at: https://sqlalche.me/e/20/e3q8)\u001B[0m\n",
      "Thought:\u001B[32;1m\u001B[1;3m I should join the OrderDetails and Orders tables to get the ShipCountry\n",
      "Action: sql_db_query\n",
      "Action Input: SELECT Orders.ShipCountry, MAX(OrderDetails.Discount) FROM OrderDetails JOIN Orders ON OrderDetails.OrderID = Orders.OrderID\u001B[0m\n",
      "Observation: \u001B[36;1m\u001B[1;3m[('Germany', 0.25)]\u001B[0m\n",
      "Thought:\u001B[32;1m\u001B[1;3m I now know the final answer\n",
      "Final Answer: Germany got the biggest discount.\u001B[0m\n",
      "\n",
      "\u001B[1m> Finished chain.\u001B[0m\n"
     ]
    },
    {
     "data": {
      "text/plain": "'Germany got the biggest discount.'"
     },
     "execution_count": 19,
     "metadata": {},
     "output_type": "execute_result"
    }
   ],
   "source": [
    "agent_executor.run(\n",
    "    'View all tables and their columns.'\n",
    "    'Find relations between them.'\n",
    "    'Which country got the biggest discount?'\n",
    ")"
   ],
   "metadata": {
    "collapsed": false,
    "ExecuteTime": {
     "end_time": "2023-07-31T16:11:23.129866Z",
     "start_time": "2023-07-31T16:11:14.060468Z"
    }
   },
   "id": "f359fda7dcdee5b0"
  },
  {
   "cell_type": "markdown",
   "source": [
    "We get an answer. Let's check it manually.\n",
    "\n",
    "```SQL\n",
    "SELECT Customers.Country, SUM(OrderDetails.Discount) AS TotalDiscount \n",
    "FROM OrderDetails\n",
    "INNER JOIN Orders ON OrderDetails.OrderID = Orders.OrderID \n",
    "INNER JOIN Customers ON Orders.CustomerID = Customers.CustomerID \n",
    "GROUP BY Customers.Country \n",
    "ORDER BY TotalDiscount DESC \n",
    "LIMIT 10;\n",
    "```\n",
    "\n",
    "| Country   | TotalDiscount      |\n",
    "| --------- | ------------------ |\n",
    "| USA       | 20.939999999999998 |\n",
    "| Germany   | 20.700000000000017 |\n",
    "| Brazil    | 13.500000000000004 |\n",
    "| France    | 10.149999999999999 |\n",
    "| Austria   | 8.600000000000001  |\n",
    "| Venezuela | 7.900000000000001  |\n",
    "| Sweden    | 6.8500000000000005 |\n",
    "| Ireland   | 6.25               |\n",
    "| Canada    | 4.799999999999999  |\n",
    "| UK        | 3.1                |\n",
    "\n",
    "\n",
    "We get the wrong answer, because it counts the number of orders with discounts, not the total sum of them. \n",
    "\n",
    "Potential problem is with our prompt. Let's try to rephrase the question."
   ],
   "metadata": {
    "collapsed": false
   },
   "id": "a4e319cf2e659925"
  },
  {
   "cell_type": "code",
   "execution_count": 20,
   "outputs": [
    {
     "name": "stdout",
     "output_type": "stream",
     "text": [
      "\n",
      "\n",
      "\u001B[1m> Entering new AgentExecutor chain...\u001B[0m\n",
      "\u001B[32;1m\u001B[1;3mAction: sql_db_list_tables\n",
      "Action Input: \"\"\u001B[0m\n",
      "Observation: \u001B[38;5;200m\u001B[1;3mCategories, CustomerCustomerDemo, CustomerDemographics, Customers, EmployeeTerritories, Employees, OrderDetails, Orders, Products, Regions, Shippers, Suppliers, Territories\u001B[0m\n",
      "Thought:\u001B[32;1m\u001B[1;3m I should query the schema of the Orders and OrderDetails tables.\n",
      "Action: sql_db_schema\n",
      "Action Input: \"Orders, OrderDetails\"\u001B[0m\n",
      "Observation: \u001B[33;1m\u001B[1;3m\n",
      "CREATE TABLE \"OrderDetails\" (\n",
      "\t\"OrderID\" INTEGER NOT NULL, \n",
      "\t\"ProductID\" INTEGER NOT NULL, \n",
      "\t\"UnitPrice\" NUMERIC DEFAULT 0 NOT NULL, \n",
      "\t\"Quantity\" INTEGER DEFAULT 1 NOT NULL, \n",
      "\t\"Discount\" REAL DEFAULT 0 NOT NULL, \n",
      "\tPRIMARY KEY (\"OrderID\", \"ProductID\"), \n",
      "\tFOREIGN KEY(\"ProductID\") REFERENCES \"Products\" (\"ProductID\"), \n",
      "\tFOREIGN KEY(\"OrderID\") REFERENCES \"Orders\" (\"OrderID\"), \n",
      "\tCHECK ([Discount]>=(0) AND [Discount]<=(1)), \n",
      "\tCHECK ([Quantity]>(0)), \n",
      "\tCHECK ([UnitPrice]>=(0))\n",
      ")\n",
      "\n",
      "/*\n",
      "3 rows from OrderDetails table:\n",
      "OrderID\tProductID\tUnitPrice\tQuantity\tDiscount\n",
      "10248\t11\t14.0000000000\t12\t0.0\n",
      "10248\t42\t9.8000000000\t10\t0.0\n",
      "10248\t72\t34.8000000000\t5\t0.0\n",
      "*/\n",
      "\n",
      "\n",
      "CREATE TABLE \"Orders\" (\n",
      "\t\"OrderID\" INTEGER NOT NULL, \n",
      "\t\"CustomerID\" TEXT, \n",
      "\t\"EmployeeID\" INTEGER, \n",
      "\t\"OrderDate\" DATETIME, \n",
      "\t\"RequiredDate\" DATETIME, \n",
      "\t\"ShippedDate\" DATETIME, \n",
      "\t\"ShipVia\" INTEGER, \n",
      "\t\"Freight\" NUMERIC DEFAULT 0, \n",
      "\t\"ShipName\" TEXT, \n",
      "\t\"ShipAddress\" TEXT, \n",
      "\t\"ShipCity\" TEXT, \n",
      "\t\"ShipRegion\" TEXT, \n",
      "\t\"ShipPostalCode\" TEXT, \n",
      "\t\"ShipCountry\" TEXT, \n",
      "\tPRIMARY KEY (\"OrderID\"), \n",
      "\tFOREIGN KEY(\"ShipVia\") REFERENCES \"Shippers\" (\"ShipperID\"), \n",
      "\tFOREIGN KEY(\"CustomerID\") REFERENCES \"Customers\" (\"CustomerID\"), \n",
      "\tFOREIGN KEY(\"EmployeeID\") REFERENCES \"Employees\" (\"EmployeeID\")\n",
      ")\n",
      "\n",
      "/*\n",
      "3 rows from Orders table:\n",
      "OrderID\tCustomerID\tEmployeeID\tOrderDate\tRequiredDate\tShippedDate\tShipVia\tFreight\tShipName\tShipAddress\tShipCity\tShipRegion\tShipPostalCode\tShipCountry\n",
      "10248\tVINET\t5\t2016-07-04 00:00:00\t2016-08-01 00:00:00\t2016-07-16 00:00:00\t3\t32.3800000000\tVins et alcools Chevalier\t59 rue de l-Abbaye\tReims\tWestern Europe\t51100\tFrance\n",
      "10249\tTOMSP\t6\t2016-07-05 00:00:00\t2016-08-16 00:00:00\t2016-07-10 00:00:00\t1\t11.6100000000\tToms Spezialitäten\tLuisenstr. 48\tMünster\tWestern Europe\t44087\tGermany\n",
      "10250\tHANAR\t4\t2016-07-08 00:00:00\t2016-08-05 00:00:00\t2016-07-12 00:00:00\t2\t65.8300000000\tHanari Carnes\tRua do Paço, 67\tRio de Janeiro\tSouth America\t05454-876\tBrazil\n",
      "*/\u001B[0m\n",
      "Thought:\u001B[32;1m\u001B[1;3m I should query the Orders and OrderDetails tables to find the country with the biggest discount in total.\n",
      "Action: sql_db_query\n",
      "Action Input: SELECT ShipCountry, SUM(Discount) AS TotalDiscount FROM Orders INNER JOIN OrderDetails ON Orders.OrderID = OrderDetails.OrderID GROUP BY ShipCountry ORDER BY TotalDiscount DESC LIMIT 10\u001B[0m\n",
      "Observation: \u001B[36;1m\u001B[1;3m[('USA', 20.939999999999998), ('Germany', 20.700000000000017), ('Brazil', 13.500000000000004), ('France', 10.149999999999999), ('Austria', 8.600000000000001), ('Venezuela', 7.900000000000001), ('Sweden', 6.8500000000000005), ('Ireland', 6.25), ('Canada', 4.799999999999999), ('UK', 3.1)]\u001B[0m\n",
      "Thought:\u001B[32;1m\u001B[1;3m I now know the final answer\n",
      "Final Answer: USA got the biggest discount in total.\u001B[0m\n",
      "\n",
      "\u001B[1m> Finished chain.\u001B[0m\n"
     ]
    },
    {
     "data": {
      "text/plain": "'USA got the biggest discount in total.'"
     },
     "execution_count": 20,
     "metadata": {},
     "output_type": "execute_result"
    }
   ],
   "source": [
    "agent_executor.run(\n",
    "    'View all tables and their columns.'\n",
    "    'Find relations between them.'\n",
    "    'Which country got the biggest discount in total?'\n",
    ")"
   ],
   "metadata": {
    "collapsed": false,
    "ExecuteTime": {
     "end_time": "2023-07-31T16:12:22.348023Z",
     "start_time": "2023-07-31T16:12:16.369597Z"
    }
   },
   "id": "1af7693d43c02679"
  },
  {
   "cell_type": "markdown",
   "source": [
    "Yaaaaaay, it works!"
   ],
   "metadata": {
    "collapsed": false
   },
   "id": "9d8ad885dd3d8b19"
  },
  {
   "cell_type": "markdown",
   "source": [
    "## 2.6. Top 3 countries by the sum of orders"
   ],
   "metadata": {
    "collapsed": false
   },
   "id": "c25909818a20203e"
  },
  {
   "cell_type": "code",
   "execution_count": 23,
   "outputs": [
    {
     "name": "stdout",
     "output_type": "stream",
     "text": [
      "\n",
      "\n",
      "\u001B[1m> Entering new AgentExecutor chain...\u001B[0m\n",
      "\u001B[32;1m\u001B[1;3mAction: sql_db_list_tables\n",
      "Action Input: \"\"\u001B[0m\n",
      "Observation: \u001B[38;5;200m\u001B[1;3mCategories, CustomerCustomerDemo, CustomerDemographics, Customers, EmployeeTerritories, Employees, OrderDetails, Orders, Products, Regions, Shippers, Suppliers, Territories\u001B[0m\n",
      "Thought:\u001B[32;1m\u001B[1;3m I should query the schema of the Orders and OrderDetails tables.\n",
      "Action: sql_db_schema\n",
      "Action Input: \"Orders, OrderDetails\"\u001B[0m\n",
      "Observation: \u001B[33;1m\u001B[1;3m\n",
      "CREATE TABLE \"OrderDetails\" (\n",
      "\t\"OrderID\" INTEGER NOT NULL, \n",
      "\t\"ProductID\" INTEGER NOT NULL, \n",
      "\t\"UnitPrice\" NUMERIC DEFAULT 0 NOT NULL, \n",
      "\t\"Quantity\" INTEGER DEFAULT 1 NOT NULL, \n",
      "\t\"Discount\" REAL DEFAULT 0 NOT NULL, \n",
      "\tPRIMARY KEY (\"OrderID\", \"ProductID\"), \n",
      "\tFOREIGN KEY(\"ProductID\") REFERENCES \"Products\" (\"ProductID\"), \n",
      "\tFOREIGN KEY(\"OrderID\") REFERENCES \"Orders\" (\"OrderID\"), \n",
      "\tCHECK ([Discount]>=(0) AND [Discount]<=(1)), \n",
      "\tCHECK ([Quantity]>(0)), \n",
      "\tCHECK ([UnitPrice]>=(0))\n",
      ")\n",
      "\n",
      "/*\n",
      "3 rows from OrderDetails table:\n",
      "OrderID\tProductID\tUnitPrice\tQuantity\tDiscount\n",
      "10248\t11\t14.0000000000\t12\t0.0\n",
      "10248\t42\t9.8000000000\t10\t0.0\n",
      "10248\t72\t34.8000000000\t5\t0.0\n",
      "*/\n",
      "\n",
      "\n",
      "CREATE TABLE \"Orders\" (\n",
      "\t\"OrderID\" INTEGER NOT NULL, \n",
      "\t\"CustomerID\" TEXT, \n",
      "\t\"EmployeeID\" INTEGER, \n",
      "\t\"OrderDate\" DATETIME, \n",
      "\t\"RequiredDate\" DATETIME, \n",
      "\t\"ShippedDate\" DATETIME, \n",
      "\t\"ShipVia\" INTEGER, \n",
      "\t\"Freight\" NUMERIC DEFAULT 0, \n",
      "\t\"ShipName\" TEXT, \n",
      "\t\"ShipAddress\" TEXT, \n",
      "\t\"ShipCity\" TEXT, \n",
      "\t\"ShipRegion\" TEXT, \n",
      "\t\"ShipPostalCode\" TEXT, \n",
      "\t\"ShipCountry\" TEXT, \n",
      "\tPRIMARY KEY (\"OrderID\"), \n",
      "\tFOREIGN KEY(\"ShipVia\") REFERENCES \"Shippers\" (\"ShipperID\"), \n",
      "\tFOREIGN KEY(\"CustomerID\") REFERENCES \"Customers\" (\"CustomerID\"), \n",
      "\tFOREIGN KEY(\"EmployeeID\") REFERENCES \"Employees\" (\"EmployeeID\")\n",
      ")\n",
      "\n",
      "/*\n",
      "3 rows from Orders table:\n",
      "OrderID\tCustomerID\tEmployeeID\tOrderDate\tRequiredDate\tShippedDate\tShipVia\tFreight\tShipName\tShipAddress\tShipCity\tShipRegion\tShipPostalCode\tShipCountry\n",
      "10248\tVINET\t5\t2016-07-04 00:00:00\t2016-08-01 00:00:00\t2016-07-16 00:00:00\t3\t32.3800000000\tVins et alcools Chevalier\t59 rue de l-Abbaye\tReims\tWestern Europe\t51100\tFrance\n",
      "10249\tTOMSP\t6\t2016-07-05 00:00:00\t2016-08-16 00:00:00\t2016-07-10 00:00:00\t1\t11.6100000000\tToms Spezialitäten\tLuisenstr. 48\tMünster\tWestern Europe\t44087\tGermany\n",
      "10250\tHANAR\t4\t2016-07-08 00:00:00\t2016-08-05 00:00:00\t2016-07-12 00:00:00\t2\t65.8300000000\tHanari Carnes\tRua do Paço, 67\tRio de Janeiro\tSouth America\t05454-876\tBrazil\n",
      "*/\u001B[0m\n",
      "Thought:\u001B[32;1m\u001B[1;3m I should query the database to get the top 3 countries by the sum of orders.\n",
      "Action: sql_db_query\n",
      "Action Input: SELECT ShipCountry, SUM(Freight) AS TotalFreight FROM Orders GROUP BY ShipCountry ORDER BY TotalFreight DESC LIMIT 3\u001B[0m\n",
      "Observation: \u001B[36;1m\u001B[1;3m[('USA', 13771.289999999999), ('Germany', 11283.28), ('Austria', 7391.500000000001)]\u001B[0m\n",
      "Thought:\u001B[32;1m\u001B[1;3m I now know the final answer\n",
      "Final Answer: The top 3 countries by the sum of orders are USA, Germany, and Austria.\u001B[0m\n",
      "\n",
      "\u001B[1m> Finished chain.\u001B[0m\n"
     ]
    },
    {
     "data": {
      "text/plain": "'The top 3 countries by the sum of orders are USA, Germany, and Austria.'"
     },
     "execution_count": 23,
     "metadata": {},
     "output_type": "execute_result"
    }
   ],
   "source": [
    "agent_executor.run(\n",
    "    'View all tables and their columns.'\n",
    "    'Find relations between them.'\n",
    "    'Select top 3 countries by the sum of orders?'\n",
    ")"
   ],
   "metadata": {
    "collapsed": false,
    "ExecuteTime": {
     "end_time": "2023-07-31T17:01:56.006897Z",
     "start_time": "2023-07-31T17:01:47.531598Z"
    }
   },
   "id": "6cc5cbfd1c76137"
  },
  {
   "cell_type": "markdown",
   "source": [
    "## 2.7. Top 3 countries by the number of orders"
   ],
   "metadata": {
    "collapsed": false
   },
   "id": "1d9bc5ff56ca822c"
  },
  {
   "cell_type": "code",
   "execution_count": 24,
   "outputs": [
    {
     "name": "stdout",
     "output_type": "stream",
     "text": [
      "\n",
      "\n",
      "\u001B[1m> Entering new AgentExecutor chain...\u001B[0m\n",
      "\u001B[32;1m\u001B[1;3mAction: sql_db_list_tables\n",
      "Action Input: \"\"\u001B[0m\n",
      "Observation: \u001B[38;5;200m\u001B[1;3mCategories, CustomerCustomerDemo, CustomerDemographics, Customers, EmployeeTerritories, Employees, OrderDetails, Orders, Products, Regions, Shippers, Suppliers, Territories\u001B[0m\n",
      "Thought:\u001B[32;1m\u001B[1;3m I should query the schema of the Orders and OrderDetails tables.\n",
      "Action: sql_db_schema\n",
      "Action Input: \"Orders, OrderDetails\"\u001B[0m\n",
      "Observation: \u001B[33;1m\u001B[1;3m\n",
      "CREATE TABLE \"OrderDetails\" (\n",
      "\t\"OrderID\" INTEGER NOT NULL, \n",
      "\t\"ProductID\" INTEGER NOT NULL, \n",
      "\t\"UnitPrice\" NUMERIC DEFAULT 0 NOT NULL, \n",
      "\t\"Quantity\" INTEGER DEFAULT 1 NOT NULL, \n",
      "\t\"Discount\" REAL DEFAULT 0 NOT NULL, \n",
      "\tPRIMARY KEY (\"OrderID\", \"ProductID\"), \n",
      "\tFOREIGN KEY(\"ProductID\") REFERENCES \"Products\" (\"ProductID\"), \n",
      "\tFOREIGN KEY(\"OrderID\") REFERENCES \"Orders\" (\"OrderID\"), \n",
      "\tCHECK ([Discount]>=(0) AND [Discount]<=(1)), \n",
      "\tCHECK ([Quantity]>(0)), \n",
      "\tCHECK ([UnitPrice]>=(0))\n",
      ")\n",
      "\n",
      "/*\n",
      "3 rows from OrderDetails table:\n",
      "OrderID\tProductID\tUnitPrice\tQuantity\tDiscount\n",
      "10248\t11\t14.0000000000\t12\t0.0\n",
      "10248\t42\t9.8000000000\t10\t0.0\n",
      "10248\t72\t34.8000000000\t5\t0.0\n",
      "*/\n",
      "\n",
      "\n",
      "CREATE TABLE \"Orders\" (\n",
      "\t\"OrderID\" INTEGER NOT NULL, \n",
      "\t\"CustomerID\" TEXT, \n",
      "\t\"EmployeeID\" INTEGER, \n",
      "\t\"OrderDate\" DATETIME, \n",
      "\t\"RequiredDate\" DATETIME, \n",
      "\t\"ShippedDate\" DATETIME, \n",
      "\t\"ShipVia\" INTEGER, \n",
      "\t\"Freight\" NUMERIC DEFAULT 0, \n",
      "\t\"ShipName\" TEXT, \n",
      "\t\"ShipAddress\" TEXT, \n",
      "\t\"ShipCity\" TEXT, \n",
      "\t\"ShipRegion\" TEXT, \n",
      "\t\"ShipPostalCode\" TEXT, \n",
      "\t\"ShipCountry\" TEXT, \n",
      "\tPRIMARY KEY (\"OrderID\"), \n",
      "\tFOREIGN KEY(\"ShipVia\") REFERENCES \"Shippers\" (\"ShipperID\"), \n",
      "\tFOREIGN KEY(\"CustomerID\") REFERENCES \"Customers\" (\"CustomerID\"), \n",
      "\tFOREIGN KEY(\"EmployeeID\") REFERENCES \"Employees\" (\"EmployeeID\")\n",
      ")\n",
      "\n",
      "/*\n",
      "3 rows from Orders table:\n",
      "OrderID\tCustomerID\tEmployeeID\tOrderDate\tRequiredDate\tShippedDate\tShipVia\tFreight\tShipName\tShipAddress\tShipCity\tShipRegion\tShipPostalCode\tShipCountry\n",
      "10248\tVINET\t5\t2016-07-04 00:00:00\t2016-08-01 00:00:00\t2016-07-16 00:00:00\t3\t32.3800000000\tVins et alcools Chevalier\t59 rue de l-Abbaye\tReims\tWestern Europe\t51100\tFrance\n",
      "10249\tTOMSP\t6\t2016-07-05 00:00:00\t2016-08-16 00:00:00\t2016-07-10 00:00:00\t1\t11.6100000000\tToms Spezialitäten\tLuisenstr. 48\tMünster\tWestern Europe\t44087\tGermany\n",
      "10250\tHANAR\t4\t2016-07-08 00:00:00\t2016-08-05 00:00:00\t2016-07-12 00:00:00\t2\t65.8300000000\tHanari Carnes\tRua do Paço, 67\tRio de Janeiro\tSouth America\t05454-876\tBrazil\n",
      "*/\u001B[0m\n",
      "Thought:\u001B[32;1m\u001B[1;3m I should query the Orders table to get the top 3 countries by the number of orders.\n",
      "Action: sql_db_query\n",
      "Action Input: SELECT ShipCountry, COUNT(*) AS num_orders FROM Orders GROUP BY ShipCountry ORDER BY num_orders DESC LIMIT 3\u001B[0m\n",
      "Observation: \u001B[36;1m\u001B[1;3m[('USA', 122), ('Germany', 122), ('Brazil', 83)]\u001B[0m\n",
      "Thought:\u001B[32;1m\u001B[1;3m I now know the final answer.\n",
      "Final Answer: The top 3 countries by the number of orders are USA, Germany, and Brazil.\u001B[0m\n",
      "\n",
      "\u001B[1m> Finished chain.\u001B[0m\n"
     ]
    },
    {
     "data": {
      "text/plain": "'The top 3 countries by the number of orders are USA, Germany, and Brazil.'"
     },
     "execution_count": 24,
     "metadata": {},
     "output_type": "execute_result"
    }
   ],
   "source": [
    "agent_executor.run(\n",
    "    'View all tables and their columns.'\n",
    "    'Find relations between them.'\n",
    "    'Select top 3 countries by the number of orders?'\n",
    ")"
   ],
   "metadata": {
    "collapsed": false,
    "ExecuteTime": {
     "end_time": "2023-07-31T17:02:38.490508Z",
     "start_time": "2023-07-31T17:02:33.238751Z"
    }
   },
   "id": "ff3b18df327efa02"
  }
 ],
 "metadata": {
  "kernelspec": {
   "display_name": "Python 3",
   "language": "python",
   "name": "python3"
  },
  "language_info": {
   "codemirror_mode": {
    "name": "ipython",
    "version": 2
   },
   "file_extension": ".py",
   "mimetype": "text/x-python",
   "name": "python",
   "nbconvert_exporter": "python",
   "pygments_lexer": "ipython2",
   "version": "2.7.6"
  }
 },
 "nbformat": 4,
 "nbformat_minor": 5
}
